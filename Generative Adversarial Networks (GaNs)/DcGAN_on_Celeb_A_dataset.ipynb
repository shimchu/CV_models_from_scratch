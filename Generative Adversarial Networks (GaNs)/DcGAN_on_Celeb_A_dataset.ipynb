{
  "nbformat": 4,
  "nbformat_minor": 0,
  "metadata": {
    "colab": {
      "provenance": []
    },
    "kernelspec": {
      "name": "python3",
      "display_name": "Python 3"
    },
    "language_info": {
      "name": "python"
    }
  },
  "cells": [
    {
      "cell_type": "markdown",
      "source": [],
      "metadata": {
        "id": "41PCKOf1ksXT"
      }
    },
    {
      "cell_type": "code",
      "execution_count": null,
      "metadata": {
        "id": "04hfjA4X9HwS"
      },
      "outputs": [],
      "source": []
    },
    {
      "cell_type": "markdown",
      "source": [
        "Resources:\n",
        "\n",
        "\n",
        "Code:\n",
        "\n",
        "https://github.com/znxlwm/pytorch-MNIST-CelebA-GAN-DCGAN\n",
        "\n",
        "Theoy + code:\n",
        "https://medium.com/@manoharmanok/implementing-dcgan-in-pytorch-using-the-celeba-dataset-a-comprehensive-guide-660e6e8e29d2\n",
        "\n",
        "https://www.analyticsvidhya.com/blog/2021/10/an-end-to-end-introduction-to-generative-adversarial-networksgans/\n",
        "\n",
        "\n",
        "\n",
        "Doubts' answers:\n",
        "https://stackoverflow.com/questions/41489907/generative-adversarial-networks-tanh\n",
        "\n",
        "why doesnt relu work, why use leaky relu ?\n",
        "\n",
        "https://www.analyticsvidhya.com/blog/2021/03/binary-cross-entropy-log-loss-for-binary-classification/\n"
      ],
      "metadata": {
        "id": "Cn9Qy_bFktIq"
      }
    },
    {
      "cell_type": "markdown",
      "source": [
        "Loss function understanding + gist"
      ],
      "metadata": {
        "id": "NsJdZIbamK3I"
      }
    },
    {
      "cell_type": "markdown",
      "source": [
        "Other datasets to try:\n",
        "1. CAT https://www.kaggle.com/code/denismachine/cats-gan\n",
        "2. DOG https://www.kaggle.com/code/bd2024/doggan\n",
        "\n",
        "\n",
        "https://colab.research.google.com/drive/1HV-TD-axLnFA84DaA-MAkRtwjfmja0RU?usp=sharing\n",
        "3. Superheroes: https://www.kaggle.com/datasets/vibster2397/superheroes?resource=download\n",
        "\n",
        "https://colab.research.google.com/drive/11-OMlAPq_stVMAiOINvVGx-xn-YEPsjc?usp=sharing\n",
        "\n",
        "4. Pokemon"
      ],
      "metadata": {
        "id": "wzsf3-fomYsN"
      }
    },
    {
      "cell_type": "markdown",
      "source": [
        "Can try:\n",
        "1. https://freedium.cfd/https://towardsdatascience.com/create-new-animals-using-dcgan-with-pytorch-2ce47810ebd4\n",
        "\n",
        "2. https://towardsdatascience.com/gangogh-creating-art-with-gans-8d087d8f74a1"
      ],
      "metadata": {
        "id": "rge9M1_fm01N"
      }
    }
  ]
}